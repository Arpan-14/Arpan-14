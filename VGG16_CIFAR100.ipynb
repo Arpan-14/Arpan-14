{
  "metadata": {
    "kernelspec": {
      "display_name": "Python 3",
      "language": "python",
      "name": "python3"
    },
    "language_info": {
      "name": "python",
      "version": "3.6.6",
      "mimetype": "text/x-python",
      "codemirror_mode": {
        "name": "ipython",
        "version": 3
      },
      "pygments_lexer": "ipython3",
      "nbconvert_exporter": "python",
      "file_extension": ".py"
    },
    "kaggle": {
      "accelerator": "gpu",
      "dataSources": [],
      "dockerImageVersionId": 23026,
      "isInternetEnabled": true,
      "language": "python",
      "sourceType": "notebook",
      "isGpuEnabled": true
    },
    "colab": {
      "name": "VGG16-CIFAR100",
      "provenance": [],
      "include_colab_link": true
    }
  },
  "nbformat_minor": 0,
  "nbformat": 4,
  "cells": [
    {
      "cell_type": "markdown",
      "metadata": {
        "id": "view-in-github",
        "colab_type": "text"
      },
      "source": [
        "<a href=\"https://colab.research.google.com/github/Arpan-14/Arpan-14/blob/main/VGG16_CIFAR100.ipynb\" target=\"_parent\"><img src=\"https://colab.research.google.com/assets/colab-badge.svg\" alt=\"Open In Colab\"/></a>"
      ]
    },
    {
      "cell_type": "code",
      "source": [
        "import keras\n",
        "from keras.datasets import cifar100\n",
        "from keras.preprocessing.image import ImageDataGenerator\n",
        "from keras.models import Sequential\n",
        "from keras.layers import Dense, Dropout, Activation, Flatten\n",
        "from keras.layers import Conv2D, MaxPooling2D, BatchNormalization\n",
        "from keras import optimizers\n",
        "import numpy as np\n",
        "from keras.layers.core import Lambda\n",
        "from keras import backend as K\n",
        "from keras import regularizers\n",
        "import matplotlib.pyplot as plt"
      ],
      "metadata": {
        "_uuid": "c53467d5b6fe10259c46d8be21fbfdfa90f58a8c",
        "execution": {
          "iopub.status.busy": "2024-02-24T14:46:40.322673Z",
          "iopub.execute_input": "2024-02-24T14:46:40.323022Z",
          "iopub.status.idle": "2024-02-24T14:46:41.345813Z",
          "shell.execute_reply.started": "2024-02-24T14:46:40.322953Z",
          "shell.execute_reply": "2024-02-24T14:46:41.345081Z"
        },
        "trusted": true,
        "id": "cBmxMEigCP-S",
        "outputId": "d62ea5d4-7bc3-4448-d7b4-dd6fa594f5c1"
      },
      "execution_count": null,
      "outputs": [
        {
          "name": "stderr",
          "text": "Using TensorFlow backend.\n",
          "output_type": "stream"
        }
      ]
    },
    {
      "cell_type": "code",
      "source": [
        "train=True\n",
        "num_classes = 100\n",
        "weight_decay = 0.0005\n",
        "x_shape = [32,32,3]"
      ],
      "metadata": {
        "_uuid": "67c12c7f1fd18cfc6fa12eba36991cff6510219d",
        "execution": {
          "iopub.status.busy": "2024-02-24T14:46:41.346924Z",
          "iopub.execute_input": "2024-02-24T14:46:41.347151Z",
          "iopub.status.idle": "2024-02-24T14:46:41.3507Z",
          "shell.execute_reply.started": "2024-02-24T14:46:41.347112Z",
          "shell.execute_reply": "2024-02-24T14:46:41.349973Z"
        },
        "trusted": true,
        "id": "CYrJPbOdCP-V"
      },
      "execution_count": null,
      "outputs": []
    },
    {
      "cell_type": "code",
      "source": [
        "model = Sequential()\n",
        "weight_decay = weight_decay\n",
        "\n",
        "model.add(Conv2D(64, (3, 3), padding='same',\n",
        "                 input_shape=x_shape,kernel_regularizer=regularizers.l2(weight_decay)))\n",
        "model.add(Activation('relu'))\n",
        "model.add(BatchNormalization())\n",
        "model.add(Dropout(0.3))\n",
        "\n",
        "model.add(Conv2D(64, (3, 3), padding='same',kernel_regularizer=regularizers.l2(weight_decay)))\n",
        "model.add(Activation('relu'))\n",
        "model.add(BatchNormalization())\n",
        "\n",
        "model.add(MaxPooling2D(pool_size=(2, 2)))\n",
        "\n",
        "model.add(Conv2D(128, (3, 3), padding='same',kernel_regularizer=regularizers.l2(weight_decay)))\n",
        "model.add(Activation('relu'))\n",
        "model.add(BatchNormalization())\n",
        "model.add(Dropout(0.4))\n",
        "\n",
        "model.add(Conv2D(128, (3, 3), padding='same',kernel_regularizer=regularizers.l2(weight_decay)))\n",
        "model.add(Activation('relu'))\n",
        "model.add(BatchNormalization())\n",
        "\n",
        "model.add(MaxPooling2D(pool_size=(2, 2)))\n",
        "\n",
        "model.add(Conv2D(256, (3, 3), padding='same',kernel_regularizer=regularizers.l2(weight_decay)))\n",
        "model.add(Activation('relu'))\n",
        "model.add(BatchNormalization())\n",
        "model.add(Dropout(0.4))\n",
        "\n",
        "model.add(Conv2D(256, (3, 3), padding='same',kernel_regularizer=regularizers.l2(weight_decay)))\n",
        "model.add(Activation('relu'))\n",
        "model.add(BatchNormalization())\n",
        "model.add(Dropout(0.4))\n",
        "\n",
        "model.add(Conv2D(256, (3, 3), padding='same',kernel_regularizer=regularizers.l2(weight_decay)))\n",
        "model.add(Activation('relu'))\n",
        "model.add(BatchNormalization())\n",
        "\n",
        "model.add(MaxPooling2D(pool_size=(2, 2)))\n",
        "\n",
        "\n",
        "model.add(Conv2D(512, (3, 3), padding='same',kernel_regularizer=regularizers.l2(weight_decay)))\n",
        "model.add(Activation('relu'))\n",
        "model.add(BatchNormalization())\n",
        "model.add(Dropout(0.4))\n",
        "\n",
        "model.add(Conv2D(512, (3, 3), padding='same',kernel_regularizer=regularizers.l2(weight_decay)))\n",
        "model.add(Activation('relu'))\n",
        "model.add(BatchNormalization())\n",
        "model.add(Dropout(0.4))\n",
        "\n",
        "model.add(Conv2D(512, (3, 3), padding='same',kernel_regularizer=regularizers.l2(weight_decay)))\n",
        "model.add(Activation('relu'))\n",
        "model.add(BatchNormalization())\n",
        "\n",
        "model.add(MaxPooling2D(pool_size=(2, 2)))\n",
        "\n",
        "\n",
        "model.add(Conv2D(512, (3, 3), padding='same',kernel_regularizer=regularizers.l2(weight_decay)))\n",
        "model.add(Activation('relu'))\n",
        "model.add(BatchNormalization())\n",
        "model.add(Dropout(0.4))\n",
        "\n",
        "model.add(Conv2D(512, (3, 3), padding='same',kernel_regularizer=regularizers.l2(weight_decay)))\n",
        "model.add(Activation('relu'))\n",
        "model.add(BatchNormalization())\n",
        "model.add(Dropout(0.4))\n",
        "\n",
        "model.add(Conv2D(512, (3, 3), padding='same',kernel_regularizer=regularizers.l2(weight_decay)))\n",
        "model.add(Activation('relu'))\n",
        "model.add(BatchNormalization())\n",
        "\n",
        "model.add(MaxPooling2D(pool_size=(2, 2)))\n",
        "model.add(Dropout(0.5))\n",
        "\n",
        "model.add(Flatten())\n",
        "model.add(Dense(512,kernel_regularizer=regularizers.l2(weight_decay)))\n",
        "model.add(Activation('relu'))\n",
        "model.add(BatchNormalization())\n",
        "\n",
        "model.add(Dropout(0.5))\n",
        "model.add(Dense(num_classes))\n",
        "model.add(Activation('softmax'))"
      ],
      "metadata": {
        "_uuid": "cd699e114c7b2c3d9d37cd5cfea1c7a2573beb70",
        "execution": {
          "iopub.status.busy": "2024-02-24T14:46:41.35199Z",
          "iopub.execute_input": "2024-02-24T14:46:41.352205Z",
          "iopub.status.idle": "2024-02-24T14:46:45.220711Z",
          "shell.execute_reply.started": "2024-02-24T14:46:41.352167Z",
          "shell.execute_reply": "2024-02-24T14:46:45.220078Z"
        },
        "trusted": true,
        "id": "DyK4iqyZCP-V",
        "outputId": "65b49edb-b805-4a36-e075-035f874c6025"
      },
      "execution_count": null,
      "outputs": [
        {
          "name": "stdout",
          "text": "WARNING:tensorflow:From /opt/conda/lib/python3.6/site-packages/tensorflow/python/framework/op_def_library.py:263: colocate_with (from tensorflow.python.framework.ops) is deprecated and will be removed in a future version.\nInstructions for updating:\nColocations handled automatically by placer.\nWARNING:tensorflow:From /opt/conda/lib/python3.6/site-packages/keras/backend/tensorflow_backend.py:3445: calling dropout (from tensorflow.python.ops.nn_ops) with keep_prob is deprecated and will be removed in a future version.\nInstructions for updating:\nPlease use `rate` instead of `keep_prob`. Rate should be set to `rate = 1 - keep_prob`.\n",
          "output_type": "stream"
        }
      ]
    },
    {
      "cell_type": "code",
      "source": [
        "def normalize(X_train,X_test):\n",
        "    #this function normalize inputs for zero mean and unit variance\n",
        "    # it is used when training a model.\n",
        "    # Input: training set and test set\n",
        "    # Output: normalized training set and test set according to the trianing set statistics.\n",
        "    mean = np.mean(X_train,axis=(0,1,2,3))\n",
        "    std = np.std(X_train, axis=(0, 1, 2, 3))\n",
        "    print(mean)\n",
        "    print(std)\n",
        "    X_train = (X_train-mean)/(std+1e-7)\n",
        "    X_test = (X_test-mean)/(std+1e-7)\n",
        "    return X_train, X_test\n",
        "\n",
        "def normalize_production(x):\n",
        "    #this function is used to normalize instances in production according to saved training set statistics\n",
        "    # Input: X - a training set\n",
        "    # Output X - a normalized training set according to normalization constants.\n",
        "\n",
        "    #these values produced during first training and are general for the standard cifar10 training set normalization\n",
        "    mean = 121.936\n",
        "    std = 68.389\n",
        "    return (x-mean)/(std+1e-7)"
      ],
      "metadata": {
        "_uuid": "47ec3feac4866787cb1596db81b7f023dd58d003",
        "execution": {
          "iopub.status.busy": "2024-02-24T14:46:45.222056Z",
          "iopub.execute_input": "2024-02-24T14:46:45.222279Z",
          "iopub.status.idle": "2024-02-24T14:46:45.227987Z",
          "shell.execute_reply.started": "2024-02-24T14:46:45.22224Z",
          "shell.execute_reply": "2024-02-24T14:46:45.227184Z"
        },
        "trusted": true,
        "id": "XR5K22JzCP-W"
      },
      "execution_count": null,
      "outputs": []
    },
    {
      "cell_type": "code",
      "source": [
        "def predict(x,normalize=True,batch_size=50):\n",
        "    if normalize:\n",
        "        x = normalize_production(x)\n",
        "    return model.predict(x,batch_size)"
      ],
      "metadata": {
        "_uuid": "f6defd800202f7f1ed59720615b594440a2722bf",
        "execution": {
          "iopub.status.busy": "2024-02-24T14:46:45.229155Z",
          "iopub.execute_input": "2024-02-24T14:46:45.229463Z",
          "iopub.status.idle": "2024-02-24T14:46:45.240969Z",
          "shell.execute_reply.started": "2024-02-24T14:46:45.229414Z",
          "shell.execute_reply": "2024-02-24T14:46:45.240201Z"
        },
        "trusted": true,
        "id": "QrsCpK2FCP-W"
      },
      "execution_count": null,
      "outputs": []
    },
    {
      "cell_type": "code",
      "source": [
        "# The data, shuffled and split between train and test sets:\n",
        "(x_train, y_train), (x_test, y_test) = cifar100.load_data()\n",
        "x_train = x_train.astype('float32')\n",
        "x_test = x_test.astype('float32')\n",
        "x_train, x_test = normalize(x_train, x_test)\n",
        "\n",
        "y_train = keras.utils.to_categorical(y_train, num_classes)\n",
        "y_test = keras.utils.to_categorical(y_test, num_classes)"
      ],
      "metadata": {
        "_uuid": "304afba83c43e75f22b5167cb571dfe5c27b3760",
        "execution": {
          "iopub.status.busy": "2024-02-24T14:46:45.242092Z",
          "iopub.execute_input": "2024-02-24T14:46:45.24239Z",
          "iopub.status.idle": "2024-02-24T14:46:57.593259Z",
          "shell.execute_reply.started": "2024-02-24T14:46:45.242337Z",
          "shell.execute_reply": "2024-02-24T14:46:57.592482Z"
        },
        "trusted": true,
        "id": "X0lPq7gwCP-W",
        "outputId": "771dba82-a588-460e-951b-bcae8cf0a0a1"
      },
      "execution_count": null,
      "outputs": [
        {
          "name": "stdout",
          "text": "Downloading data from https://www.cs.toronto.edu/~kriz/cifar-100-python.tar.gz\n169009152/169001437 [==============================] - 8s 0us/step\n121.93584\n68.38902\n",
          "output_type": "stream"
        }
      ]
    },
    {
      "cell_type": "code",
      "source": [
        "batch_size = 128\n",
        "maxepoches = 200\n",
        "learning_rate = 0.1\n",
        "lr_decay = 1e-6\n",
        "lr_drop = 20\n",
        "\n",
        "def lr_scheduler(epoch):\n",
        "    return learning_rate * (0.5 ** (epoch // lr_drop))\n",
        "reduce_lr = keras.callbacks.LearningRateScheduler(lr_scheduler)\n",
        "\n",
        "\n",
        "#data augmentation\n",
        "datagen = ImageDataGenerator(\n",
        "    featurewise_center=False,  # set input mean to 0 over the dataset\n",
        "    samplewise_center=False,  # set each sample mean to 0\n",
        "    featurewise_std_normalization=False,  # divide inputs by std of the dataset\n",
        "    samplewise_std_normalization=False,  # divide each input by its std\n",
        "    zca_whitening=False,  # apply ZCA whitening\n",
        "    rotation_range=15,  # randomly rotate images in the range (degrees, 0 to 180)\n",
        "    width_shift_range=0.1,  # randomly shift images horizontally (fraction of total width)\n",
        "    height_shift_range=0.1,  # randomly shift images vertically (fraction of total height)\n",
        "    horizontal_flip=True,  # randomly flip images\n",
        "    vertical_flip=False)  # randomly flip images\n",
        "# (std, mean, and principal components if ZCA whitening is applied).\n",
        "datagen.fit(x_train)\n",
        "\n",
        "\n",
        "\n",
        "#optimization details\n",
        "sgd = optimizers.SGD(lr=learning_rate, decay=lr_decay, momentum=0.9, nesterov=True)\n",
        "model.compile(loss='categorical_crossentropy', optimizer=sgd,metrics=['accuracy'])\n",
        "\n",
        "\n",
        "# training process in a for loop with learning rate drop every 25 epoches.\n",
        "\n",
        "hist = model.fit_generator(datagen.flow(x_train, y_train,\n",
        "                                 batch_size=batch_size),\n",
        "                    steps_per_epoch=x_train.shape[0] // batch_size,\n",
        "                    epochs=maxepoches,\n",
        "                    validation_data=(x_test, y_test),callbacks=[reduce_lr],verbose=2)\n",
        "model.save_weights('cifar100vgg.h5')"
      ],
      "metadata": {
        "_uuid": "57fd9613cc277f5866b1503e493f40f712f59f52",
        "execution": {
          "iopub.status.busy": "2024-02-24T14:46:57.594959Z",
          "iopub.execute_input": "2024-02-24T14:46:57.595305Z",
          "iopub.status.idle": "2024-02-24T16:04:36.038552Z",
          "shell.execute_reply.started": "2024-02-24T14:46:57.595232Z",
          "shell.execute_reply": "2024-02-24T16:04:36.03766Z"
        },
        "trusted": true,
        "id": "47uU850-CP-X",
        "outputId": "be82cf3b-5f32-42f3-c070-01e56a71929e"
      },
      "execution_count": null,
      "outputs": [
        {
          "name": "stdout",
          "text": "WARNING:tensorflow:From /opt/conda/lib/python3.6/site-packages/tensorflow/python/ops/math_ops.py:3066: to_int32 (from tensorflow.python.ops.math_ops) is deprecated and will be removed in a future version.\nInstructions for updating:\nUse tf.cast instead.\nEpoch 1/200\n - 30s - loss: 20.1140 - acc: 0.0215 - val_loss: 15.4000 - val_acc: 0.0168\nEpoch 2/200\n - 23s - loss: 12.5564 - acc: 0.0353 - val_loss: 13.2486 - val_acc: 0.0181\nEpoch 3/200\n - 23s - loss: 9.9037 - acc: 0.0525 - val_loss: 8.3401 - val_acc: 0.0325\nEpoch 4/200\n - 23s - loss: 7.0963 - acc: 0.0652 - val_loss: 6.6850 - val_acc: 0.0527\nEpoch 5/200\n - 23s - loss: 6.1898 - acc: 0.0740 - val_loss: 6.4333 - val_acc: 0.0481\nEpoch 6/200\n - 23s - loss: 5.8773 - acc: 0.0676 - val_loss: 7.7891 - val_acc: 0.0282\nEpoch 7/200\n - 23s - loss: 8.8743 - acc: 0.0745 - val_loss: 11.9084 - val_acc: 0.0537\nEpoch 8/200\n - 23s - loss: 9.2733 - acc: 0.0977 - val_loss: 8.2977 - val_acc: 0.0289\nEpoch 9/200\n - 23s - loss: 6.4053 - acc: 0.1104 - val_loss: 6.3855 - val_acc: 0.0559\nEpoch 10/200\n - 23s - loss: 5.0821 - acc: 0.1274 - val_loss: 4.9590 - val_acc: 0.1011\nEpoch 11/200\n - 23s - loss: 4.4555 - acc: 0.1410 - val_loss: 4.5142 - val_acc: 0.1133\nEpoch 12/200\n - 23s - loss: 4.1631 - acc: 0.1486 - val_loss: 4.1533 - val_acc: 0.1512\nEpoch 13/200\n - 23s - loss: 4.0151 - acc: 0.1648 - val_loss: 4.2334 - val_acc: 0.1438\nEpoch 14/200\n - 23s - loss: 3.9511 - acc: 0.1741 - val_loss: 4.0792 - val_acc: 0.1569\nEpoch 15/200\n - 24s - loss: 3.9137 - acc: 0.1848 - val_loss: 3.9251 - val_acc: 0.1929\nEpoch 16/200\n - 23s - loss: 3.8855 - acc: 0.2005 - val_loss: 4.2898 - val_acc: 0.1598\nEpoch 17/200\n - 23s - loss: 3.8698 - acc: 0.2124 - val_loss: 3.7594 - val_acc: 0.2449\nEpoch 18/200\n - 24s - loss: 3.8504 - acc: 0.2297 - val_loss: 4.2149 - val_acc: 0.1983\nEpoch 19/200\n - 24s - loss: 3.8409 - acc: 0.2474 - val_loss: 4.2805 - val_acc: 0.1865\nEpoch 20/200\n - 24s - loss: 3.8364 - acc: 0.2580 - val_loss: 3.9570 - val_acc: 0.2532\nEpoch 21/200\n - 24s - loss: 3.5661 - acc: 0.3124 - val_loss: 3.4395 - val_acc: 0.3293\nEpoch 22/200\n - 24s - loss: 3.4196 - acc: 0.3317 - val_loss: 3.3127 - val_acc: 0.3548\nEpoch 23/200\n - 24s - loss: 3.3790 - acc: 0.3365 - val_loss: 3.2304 - val_acc: 0.3733\nEpoch 24/200\n - 24s - loss: 3.3802 - acc: 0.3429 - val_loss: 3.7590 - val_acc: 0.2958\nEpoch 25/200\n - 23s - loss: 3.3646 - acc: 0.3544 - val_loss: 3.4201 - val_acc: 0.3609\nEpoch 26/200\n - 23s - loss: 3.3704 - acc: 0.3602 - val_loss: 3.3047 - val_acc: 0.3795\nEpoch 27/200\n - 23s - loss: 3.3788 - acc: 0.3671 - val_loss: 3.3196 - val_acc: 0.3836\nEpoch 28/200\n - 23s - loss: 3.3646 - acc: 0.3721 - val_loss: 3.3940 - val_acc: 0.3891\nEpoch 29/200\n - 23s - loss: 3.3810 - acc: 0.3829 - val_loss: 3.4235 - val_acc: 0.3791\nEpoch 30/200\n - 23s - loss: 3.3770 - acc: 0.3884 - val_loss: 3.3260 - val_acc: 0.4052\nEpoch 31/200\n - 23s - loss: 3.3910 - acc: 0.3909 - val_loss: 3.4835 - val_acc: 0.3779\nEpoch 32/200\n - 23s - loss: 3.3828 - acc: 0.3965 - val_loss: 3.4046 - val_acc: 0.4050\nEpoch 33/200\n - 24s - loss: 3.3908 - acc: 0.4025 - val_loss: 3.8059 - val_acc: 0.3437\nEpoch 34/200\n - 23s - loss: 3.3958 - acc: 0.4040 - val_loss: 3.5967 - val_acc: 0.3810\nEpoch 35/200\n - 23s - loss: 3.4053 - acc: 0.4080 - val_loss: 3.3767 - val_acc: 0.4219\nEpoch 36/200\n - 23s - loss: 3.4125 - acc: 0.4104 - val_loss: 3.2616 - val_acc: 0.4513\nEpoch 37/200\n - 24s - loss: 3.4123 - acc: 0.4177 - val_loss: 3.8510 - val_acc: 0.3605\nEpoch 38/200\n - 24s - loss: 3.3986 - acc: 0.4238 - val_loss: 3.4212 - val_acc: 0.4297\nEpoch 39/200\n - 24s - loss: 3.4303 - acc: 0.4194 - val_loss: 3.3660 - val_acc: 0.4446\nEpoch 40/200\n - 23s - loss: 3.4195 - acc: 0.4259 - val_loss: 3.3173 - val_acc: 0.4534\nEpoch 41/200\n - 23s - loss: 3.1567 - acc: 0.4776 - val_loss: 3.3002 - val_acc: 0.4411\nEpoch 42/200\n - 23s - loss: 3.0194 - acc: 0.4904 - val_loss: 2.9385 - val_acc: 0.5113\nEpoch 43/200\n - 23s - loss: 2.9628 - acc: 0.4937 - val_loss: 2.9364 - val_acc: 0.5063\nEpoch 44/200\n - 23s - loss: 2.9253 - acc: 0.4979 - val_loss: 3.0564 - val_acc: 0.4810\nEpoch 45/200\n - 23s - loss: 2.9132 - acc: 0.4982 - val_loss: 2.8580 - val_acc: 0.5226\nEpoch 46/200\n - 24s - loss: 2.9005 - acc: 0.5020 - val_loss: 3.0037 - val_acc: 0.4848\nEpoch 47/200\n - 23s - loss: 2.9078 - acc: 0.5023 - val_loss: 3.0503 - val_acc: 0.4867\nEpoch 48/200\n - 23s - loss: 2.9046 - acc: 0.5076 - val_loss: 2.9462 - val_acc: 0.5080\nEpoch 49/200\n - 23s - loss: 2.9019 - acc: 0.5083 - val_loss: 2.9649 - val_acc: 0.4980\nEpoch 50/200\n - 23s - loss: 2.8990 - acc: 0.5096 - val_loss: 2.9034 - val_acc: 0.5230\nEpoch 51/200\n - 23s - loss: 2.9067 - acc: 0.5138 - val_loss: 2.9332 - val_acc: 0.5206\nEpoch 52/200\n - 23s - loss: 2.9219 - acc: 0.5124 - val_loss: 3.2051 - val_acc: 0.4716\nEpoch 53/200\n - 23s - loss: 2.9105 - acc: 0.5164 - val_loss: 3.1642 - val_acc: 0.4810\nEpoch 54/200\n - 23s - loss: 2.9178 - acc: 0.5193 - val_loss: 2.9393 - val_acc: 0.5185\nEpoch 55/200\n - 23s - loss: 2.9250 - acc: 0.5202 - val_loss: 3.0010 - val_acc: 0.5190\nEpoch 56/200\n - 23s - loss: 2.9238 - acc: 0.5224 - val_loss: 3.2453 - val_acc: 0.4667\nEpoch 57/200\n - 23s - loss: 2.9375 - acc: 0.5217 - val_loss: 3.4664 - val_acc: 0.4442\nEpoch 58/200\n - 23s - loss: 2.9291 - acc: 0.5277 - val_loss: 3.0497 - val_acc: 0.5163\nEpoch 59/200\n - 23s - loss: 2.9421 - acc: 0.5283 - val_loss: 2.9996 - val_acc: 0.5275\nEpoch 60/200\n - 23s - loss: 2.9348 - acc: 0.5318 - val_loss: 3.2281 - val_acc: 0.4907\nEpoch 61/200\n - 23s - loss: 2.7561 - acc: 0.5680 - val_loss: 2.6304 - val_acc: 0.5932\nEpoch 62/200\n - 23s - loss: 2.6320 - acc: 0.5876 - val_loss: 2.6684 - val_acc: 0.5771\nEpoch 63/200\n - 23s - loss: 2.5755 - acc: 0.5945 - val_loss: 2.6586 - val_acc: 0.5854\nEpoch 64/200\n - 23s - loss: 2.5357 - acc: 0.5950 - val_loss: 2.5924 - val_acc: 0.5888\nEpoch 65/200\n - 23s - loss: 2.5109 - acc: 0.5955 - val_loss: 2.5734 - val_acc: 0.5916\nEpoch 66/200\n - 23s - loss: 2.4987 - acc: 0.5979 - val_loss: 2.6430 - val_acc: 0.5772\nEpoch 67/200\n - 23s - loss: 2.4785 - acc: 0.5999 - val_loss: 2.6597 - val_acc: 0.5762\nEpoch 68/200\n - 23s - loss: 2.4627 - acc: 0.6032 - val_loss: 2.6470 - val_acc: 0.5745\nEpoch 69/200\n - 23s - loss: 2.4738 - acc: 0.5994 - val_loss: 2.6563 - val_acc: 0.5785\nEpoch 70/200\n - 23s - loss: 2.4569 - acc: 0.6038 - val_loss: 2.5800 - val_acc: 0.5909\nEpoch 71/200\n - 23s - loss: 2.4546 - acc: 0.6052 - val_loss: 2.6163 - val_acc: 0.5819\nEpoch 72/200\n - 23s - loss: 2.4529 - acc: 0.6056 - val_loss: 2.5440 - val_acc: 0.5951\nEpoch 73/200\n - 23s - loss: 2.4570 - acc: 0.6057 - val_loss: 2.6984 - val_acc: 0.5702\nEpoch 74/200\n - 23s - loss: 2.4591 - acc: 0.6066 - val_loss: 2.7106 - val_acc: 0.5628\nEpoch 75/200\n - 23s - loss: 2.4609 - acc: 0.6066 - val_loss: 2.6554 - val_acc: 0.5771\nEpoch 76/200\n - 23s - loss: 2.4574 - acc: 0.6086 - val_loss: 2.7573 - val_acc: 0.5586\nEpoch 77/200\n - 23s - loss: 2.4615 - acc: 0.6077 - val_loss: 2.8024 - val_acc: 0.5585\nEpoch 78/200\n - 23s - loss: 2.4553 - acc: 0.6132 - val_loss: 2.6823 - val_acc: 0.5803\nEpoch 79/200\n - 23s - loss: 2.4702 - acc: 0.6111 - val_loss: 2.6345 - val_acc: 0.5874\nEpoch 80/200\n - 23s - loss: 2.4621 - acc: 0.6132 - val_loss: 2.7794 - val_acc: 0.5632\nEpoch 81/200\n - 23s - loss: 2.2972 - acc: 0.6517 - val_loss: 2.5356 - val_acc: 0.6130\nEpoch 82/200\n - 23s - loss: 2.2106 - acc: 0.6686 - val_loss: 2.6338 - val_acc: 0.5902\nEpoch 83/200\n - 23s - loss: 2.1773 - acc: 0.6700 - val_loss: 2.4160 - val_acc: 0.6303\nEpoch 84/200\n - 23s - loss: 2.1404 - acc: 0.6758 - val_loss: 2.4006 - val_acc: 0.6281\nEpoch 85/200\n - 23s - loss: 2.1153 - acc: 0.6801 - val_loss: 2.4415 - val_acc: 0.6217\nEpoch 86/200\n - 23s - loss: 2.1037 - acc: 0.6798 - val_loss: 2.4053 - val_acc: 0.6301\nEpoch 87/200\n - 23s - loss: 2.0848 - acc: 0.6806 - val_loss: 2.4373 - val_acc: 0.6149\nEpoch 88/200\n - 23s - loss: 2.0722 - acc: 0.6841 - val_loss: 2.4253 - val_acc: 0.6182\nEpoch 89/200\n - 23s - loss: 2.0603 - acc: 0.6829 - val_loss: 2.4126 - val_acc: 0.6198\nEpoch 90/200\n - 23s - loss: 2.0544 - acc: 0.6825 - val_loss: 2.4357 - val_acc: 0.6174\nEpoch 91/200\n - 24s - loss: 2.0478 - acc: 0.6834 - val_loss: 2.4559 - val_acc: 0.6074\nEpoch 92/200\n - 23s - loss: 2.0314 - acc: 0.6869 - val_loss: 2.3970 - val_acc: 0.6233\nEpoch 93/200\n - 23s - loss: 2.0236 - acc: 0.6871 - val_loss: 2.4270 - val_acc: 0.6182\nEpoch 94/200\n - 23s - loss: 2.0268 - acc: 0.6860 - val_loss: 2.3275 - val_acc: 0.6369\nEpoch 95/200\n - 23s - loss: 2.0330 - acc: 0.6843 - val_loss: 2.3342 - val_acc: 0.6332\nEpoch 96/200\n - 23s - loss: 2.0195 - acc: 0.6884 - val_loss: 2.4998 - val_acc: 0.6087\nEpoch 97/200\n - 23s - loss: 2.0200 - acc: 0.6901 - val_loss: 2.4524 - val_acc: 0.6165\nEpoch 98/200\n - 23s - loss: 2.0252 - acc: 0.6874 - val_loss: 2.3497 - val_acc: 0.6358\nEpoch 99/200\n - 23s - loss: 2.0030 - acc: 0.6922 - val_loss: 2.3741 - val_acc: 0.6276\nEpoch 100/200\n - 23s - loss: 2.0100 - acc: 0.6927 - val_loss: 2.6659 - val_acc: 0.5826\nEpoch 101/200\n - 23s - loss: 1.8973 - acc: 0.7187 - val_loss: 2.3433 - val_acc: 0.6342\nEpoch 102/200\n - 23s - loss: 1.8247 - acc: 0.7340 - val_loss: 2.3286 - val_acc: 0.6392\nEpoch 103/200\n - 23s - loss: 1.7949 - acc: 0.7378 - val_loss: 2.3462 - val_acc: 0.6388\nEpoch 104/200\n - 24s - loss: 1.7807 - acc: 0.7398 - val_loss: 2.2408 - val_acc: 0.6536\nEpoch 105/200\n - 24s - loss: 1.7504 - acc: 0.7471 - val_loss: 2.3124 - val_acc: 0.6486\nEpoch 106/200\n - 24s - loss: 1.7378 - acc: 0.7466 - val_loss: 2.3659 - val_acc: 0.6328\nEpoch 107/200\n - 23s - loss: 1.7309 - acc: 0.7464 - val_loss: 2.3078 - val_acc: 0.6414\nEpoch 108/200\n - 24s - loss: 1.7071 - acc: 0.7517 - val_loss: 2.2509 - val_acc: 0.6533\nEpoch 109/200\n - 23s - loss: 1.6936 - acc: 0.7536 - val_loss: 2.2954 - val_acc: 0.6479\nEpoch 110/200\n - 23s - loss: 1.6898 - acc: 0.7539 - val_loss: 2.3480 - val_acc: 0.6409\nEpoch 111/200\n - 23s - loss: 1.6829 - acc: 0.7547 - val_loss: 2.3792 - val_acc: 0.6302\nEpoch 112/200\n - 23s - loss: 1.6666 - acc: 0.7574 - val_loss: 2.3558 - val_acc: 0.6316\nEpoch 113/200\n - 23s - loss: 1.6739 - acc: 0.7560 - val_loss: 2.3667 - val_acc: 0.6377\nEpoch 114/200\n - 23s - loss: 1.6528 - acc: 0.7595 - val_loss: 2.3148 - val_acc: 0.6381\nEpoch 115/200\n - 23s - loss: 1.6516 - acc: 0.7590 - val_loss: 2.2874 - val_acc: 0.6431\nEpoch 116/200\n - 23s - loss: 1.6413 - acc: 0.7586 - val_loss: 2.3546 - val_acc: 0.6338\nEpoch 117/200\n - 23s - loss: 1.6489 - acc: 0.7566 - val_loss: 2.2115 - val_acc: 0.6549\nEpoch 118/200\n - 23s - loss: 1.6393 - acc: 0.7595 - val_loss: 2.2247 - val_acc: 0.6573\nEpoch 119/200\n - 23s - loss: 1.6309 - acc: 0.7615 - val_loss: 2.3856 - val_acc: 0.6319\nEpoch 120/200\n - 23s - loss: 1.6333 - acc: 0.7602 - val_loss: 2.4044 - val_acc: 0.6261\nEpoch 121/200\n - 23s - loss: 1.5540 - acc: 0.7792 - val_loss: 2.2028 - val_acc: 0.6643\nEpoch 122/200\n - 23s - loss: 1.5010 - acc: 0.7930 - val_loss: 2.2127 - val_acc: 0.6623\nEpoch 123/200\n - 23s - loss: 1.4816 - acc: 0.7975 - val_loss: 2.2611 - val_acc: 0.6561\nEpoch 124/200\n - 23s - loss: 1.4710 - acc: 0.7977 - val_loss: 2.2080 - val_acc: 0.6632\nEpoch 125/200\n - 23s - loss: 1.4462 - acc: 0.8036 - val_loss: 2.2649 - val_acc: 0.6590\nEpoch 126/200\n - 23s - loss: 1.4298 - acc: 0.8075 - val_loss: 2.2493 - val_acc: 0.6605\nEpoch 127/200\n - 23s - loss: 1.4207 - acc: 0.8086 - val_loss: 2.2756 - val_acc: 0.6526\nEpoch 128/200\n - 23s - loss: 1.4113 - acc: 0.8104 - val_loss: 2.2120 - val_acc: 0.6634\nEpoch 129/200\n - 23s - loss: 1.4059 - acc: 0.8102 - val_loss: 2.2927 - val_acc: 0.6499\nEpoch 130/200\n - 23s - loss: 1.3869 - acc: 0.8139 - val_loss: 2.2457 - val_acc: 0.6530\nEpoch 131/200\n - 23s - loss: 1.3829 - acc: 0.8135 - val_loss: 2.2393 - val_acc: 0.6618\nEpoch 132/200\n - 23s - loss: 1.3761 - acc: 0.8148 - val_loss: 2.2186 - val_acc: 0.6614\nEpoch 133/200\n - 23s - loss: 1.3689 - acc: 0.8165 - val_loss: 2.2629 - val_acc: 0.6596\nEpoch 134/200\n - 23s - loss: 1.3633 - acc: 0.8148 - val_loss: 2.2792 - val_acc: 0.6545\nEpoch 135/200\n - 23s - loss: 1.3516 - acc: 0.8188 - val_loss: 2.2774 - val_acc: 0.6587\nEpoch 136/200\n - 23s - loss: 1.3516 - acc: 0.8183 - val_loss: 2.2191 - val_acc: 0.6625\nEpoch 137/200\n - 23s - loss: 1.3530 - acc: 0.8166 - val_loss: 2.2262 - val_acc: 0.6640\nEpoch 138/200\n - 23s - loss: 1.3393 - acc: 0.8175 - val_loss: 2.2775 - val_acc: 0.6564\nEpoch 139/200\n - 23s - loss: 1.3272 - acc: 0.8213 - val_loss: 2.3231 - val_acc: 0.6553\nEpoch 140/200\n - 23s - loss: 1.3224 - acc: 0.8228 - val_loss: 2.2655 - val_acc: 0.6625\nEpoch 141/200\n - 23s - loss: 1.2875 - acc: 0.8311 - val_loss: 2.2183 - val_acc: 0.6681\nEpoch 142/200\n - 23s - loss: 1.2572 - acc: 0.8398 - val_loss: 2.1904 - val_acc: 0.6706\nEpoch 143/200\n - 23s - loss: 1.2375 - acc: 0.8435 - val_loss: 2.2210 - val_acc: 0.6696\nEpoch 144/200\n - 23s - loss: 1.2236 - acc: 0.8464 - val_loss: 2.2564 - val_acc: 0.6652\nEpoch 145/200\n - 23s - loss: 1.2272 - acc: 0.8463 - val_loss: 2.2215 - val_acc: 0.6696\nEpoch 146/200\n - 23s - loss: 1.2063 - acc: 0.8496 - val_loss: 2.2342 - val_acc: 0.6706\nEpoch 147/200\n - 23s - loss: 1.2017 - acc: 0.8497 - val_loss: 2.1938 - val_acc: 0.6734\nEpoch 148/200\n - 23s - loss: 1.1959 - acc: 0.8520 - val_loss: 2.2559 - val_acc: 0.6639\nEpoch 149/200\n - 23s - loss: 1.1917 - acc: 0.8524 - val_loss: 2.2545 - val_acc: 0.6689\nEpoch 150/200\n - 24s - loss: 1.1850 - acc: 0.8526 - val_loss: 2.2605 - val_acc: 0.6650\nEpoch 151/200\n - 24s - loss: 1.1693 - acc: 0.8558 - val_loss: 2.2572 - val_acc: 0.6680\nEpoch 152/200\n - 24s - loss: 1.1658 - acc: 0.8557 - val_loss: 2.2303 - val_acc: 0.6708\nEpoch 153/200\n - 23s - loss: 1.1611 - acc: 0.8568 - val_loss: 2.2901 - val_acc: 0.6563\nEpoch 154/200\n - 23s - loss: 1.1563 - acc: 0.8575 - val_loss: 2.3009 - val_acc: 0.6596\nEpoch 155/200\n - 23s - loss: 1.1502 - acc: 0.8589 - val_loss: 2.2875 - val_acc: 0.6611\nEpoch 156/200\n - 23s - loss: 1.1489 - acc: 0.8572 - val_loss: 2.2636 - val_acc: 0.6638\nEpoch 157/200\n - 23s - loss: 1.1380 - acc: 0.8605 - val_loss: 2.2968 - val_acc: 0.6605\nEpoch 158/200\n - 23s - loss: 1.1380 - acc: 0.8605 - val_loss: 2.2334 - val_acc: 0.6711\nEpoch 159/200\n - 23s - loss: 1.1419 - acc: 0.8588 - val_loss: 2.2891 - val_acc: 0.6635\nEpoch 160/200\n - 23s - loss: 1.1257 - acc: 0.8633 - val_loss: 2.3312 - val_acc: 0.6591\nEpoch 161/200\n - 23s - loss: 1.1048 - acc: 0.8688 - val_loss: 2.3026 - val_acc: 0.6639\nEpoch 162/200\n - 23s - loss: 1.0898 - acc: 0.8716 - val_loss: 2.2551 - val_acc: 0.6696\nEpoch 163/200\n - 23s - loss: 1.0839 - acc: 0.8725 - val_loss: 2.2491 - val_acc: 0.6691\nEpoch 164/200\n - 23s - loss: 1.0755 - acc: 0.8763 - val_loss: 2.2293 - val_acc: 0.6709\nEpoch 165/200\n - 23s - loss: 1.0749 - acc: 0.8752 - val_loss: 2.2556 - val_acc: 0.6695\nEpoch 166/200\n - 23s - loss: 1.0614 - acc: 0.8789 - val_loss: 2.2572 - val_acc: 0.6686\nEpoch 167/200\n - 24s - loss: 1.0591 - acc: 0.8780 - val_loss: 2.2555 - val_acc: 0.6710\nEpoch 168/200\n - 23s - loss: 1.0600 - acc: 0.8786 - val_loss: 2.2252 - val_acc: 0.6759\nEpoch 169/200\n - 23s - loss: 1.0537 - acc: 0.8788 - val_loss: 2.2620 - val_acc: 0.6677\nEpoch 170/200\n - 23s - loss: 1.0454 - acc: 0.8808 - val_loss: 2.2301 - val_acc: 0.6714\nEpoch 171/200\n - 23s - loss: 1.0445 - acc: 0.8813 - val_loss: 2.2730 - val_acc: 0.6670\nEpoch 172/200\n - 23s - loss: 1.0304 - acc: 0.8860 - val_loss: 2.2744 - val_acc: 0.6663\nEpoch 173/200\n - 23s - loss: 1.0373 - acc: 0.8818 - val_loss: 2.2877 - val_acc: 0.6647\nEpoch 174/200\n - 23s - loss: 1.0288 - acc: 0.8838 - val_loss: 2.2341 - val_acc: 0.6724\nEpoch 175/200\n - 23s - loss: 1.0271 - acc: 0.8853 - val_loss: 2.2715 - val_acc: 0.6695\nEpoch 176/200\n - 23s - loss: 1.0284 - acc: 0.8829 - val_loss: 2.2646 - val_acc: 0.6706\nEpoch 177/200\n - 23s - loss: 1.0192 - acc: 0.8875 - val_loss: 2.2721 - val_acc: 0.6718\nEpoch 178/200\n - 23s - loss: 1.0148 - acc: 0.8866 - val_loss: 2.2780 - val_acc: 0.6656\nEpoch 179/200\n - 23s - loss: 1.0204 - acc: 0.8840 - val_loss: 2.2408 - val_acc: 0.6748\nEpoch 180/200\n - 23s - loss: 1.0119 - acc: 0.8882 - val_loss: 2.2660 - val_acc: 0.6681\nEpoch 181/200\n - 23s - loss: 0.9952 - acc: 0.8919 - val_loss: 2.2413 - val_acc: 0.6741\nEpoch 182/200\n - 23s - loss: 1.0022 - acc: 0.8910 - val_loss: 2.2550 - val_acc: 0.6710\nEpoch 183/200\n - 23s - loss: 0.9926 - acc: 0.8919 - val_loss: 2.2587 - val_acc: 0.6695\nEpoch 184/200\n - 23s - loss: 0.9810 - acc: 0.8950 - val_loss: 2.2535 - val_acc: 0.6729\nEpoch 185/200\n - 23s - loss: 0.9855 - acc: 0.8921 - val_loss: 2.2355 - val_acc: 0.6750\nEpoch 186/200\n - 23s - loss: 0.9765 - acc: 0.8960 - val_loss: 2.2403 - val_acc: 0.6729\nEpoch 187/200\n - 23s - loss: 0.9733 - acc: 0.8965 - val_loss: 2.2544 - val_acc: 0.6738\nEpoch 188/200\n - 23s - loss: 0.9739 - acc: 0.8959 - val_loss: 2.2721 - val_acc: 0.6694\nEpoch 189/200\n - 23s - loss: 0.9702 - acc: 0.8975 - val_loss: 2.2493 - val_acc: 0.6724\nEpoch 190/200\n - 23s - loss: 0.9768 - acc: 0.8944 - val_loss: 2.2462 - val_acc: 0.6747\nEpoch 191/200\n - 23s - loss: 0.9719 - acc: 0.8961 - val_loss: 2.2571 - val_acc: 0.6741\nEpoch 192/200\n - 23s - loss: 0.9702 - acc: 0.8968 - val_loss: 2.2447 - val_acc: 0.6743\nEpoch 193/200\n - 23s - loss: 0.9613 - acc: 0.8996 - val_loss: 2.2519 - val_acc: 0.6737\nEpoch 194/200\n - 23s - loss: 0.9629 - acc: 0.8986 - val_loss: 2.2753 - val_acc: 0.6708\nEpoch 195/200\n - 23s - loss: 0.9649 - acc: 0.8974 - val_loss: 2.2348 - val_acc: 0.6749\nEpoch 196/200\n - 23s - loss: 0.9610 - acc: 0.8979 - val_loss: 2.2635 - val_acc: 0.6706\nEpoch 197/200\n - 23s - loss: 0.9510 - acc: 0.8992 - val_loss: 2.2500 - val_acc: 0.6748\nEpoch 198/200\n - 23s - loss: 0.9561 - acc: 0.8990 - val_loss: 2.2603 - val_acc: 0.6711\nEpoch 199/200\n - 23s - loss: 0.9574 - acc: 0.8975 - val_loss: 2.2675 - val_acc: 0.6711\nEpoch 200/200\n - 23s - loss: 0.9505 - acc: 0.8996 - val_loss: 2.2812 - val_acc: 0.6698\n",
          "output_type": "stream"
        }
      ]
    },
    {
      "cell_type": "code",
      "source": [
        "(x_train, y_train), (x_test, y_test) = cifar100.load_data()\n",
        "x_train = x_train.astype('float32')\n",
        "x_test = x_test.astype('float32')\n",
        "\n",
        "y_train = keras.utils.to_categorical(y_train, num_classes)\n",
        "y_test = keras.utils.to_categorical(y_test, num_classes)\n",
        "\n",
        "scores = model.evaluate(x_test, y_test, verbose=0)\n",
        "print(\"Accuracy: %.2f%%\" % (scores[1]*100))"
      ],
      "metadata": {
        "_uuid": "a777104d31af4a218a395c7e2e72bb4d99f4dc60",
        "execution": {
          "iopub.status.busy": "2024-02-24T16:04:36.040023Z",
          "iopub.execute_input": "2024-02-24T16:04:36.040328Z",
          "iopub.status.idle": "2024-02-24T16:04:39.424512Z",
          "shell.execute_reply.started": "2024-02-24T16:04:36.04027Z",
          "shell.execute_reply": "2024-02-24T16:04:39.423543Z"
        },
        "trusted": true,
        "id": "xQRywUclCP-X",
        "outputId": "cb400624-d335-407d-c83d-88bce6572dbd"
      },
      "execution_count": null,
      "outputs": [
        {
          "name": "stdout",
          "text": "Accuracy: 1.58%\n",
          "output_type": "stream"
        }
      ]
    },
    {
      "cell_type": "code",
      "source": [
        "plt.plot(hist.history['loss'])\n",
        "plt.plot(hist.history['val_loss'])\n",
        "plt.legend(['train','test'])\n",
        "plt.title('loss')\n",
        "plt.savefig(\"loss7.png\",dpi=300,format=\"png\")\n",
        "plt.figure()\n",
        "plt.plot(hist.history['acc'])\n",
        "plt.plot(hist.history['val_acc'])\n",
        "plt.legend(['train','test'])\n",
        "plt.title('accuracy')\n",
        "plt.savefig(\"accuracy7.png\",dpi=300,format=\"png\")\n",
        "model_json = model.to_json()\n",
        "with open(\"model7.json\", \"w\") as json_file:\n",
        "    json_file.write(model_json)\n",
        "# serialize weights to HDF5\n",
        "model.save_weights(\"model7.h5\")\n",
        "print(\"Saved model to disk\")"
      ],
      "metadata": {
        "_uuid": "cb7e5ed8a0b109fefc863addb37684797c374d75",
        "execution": {
          "iopub.status.busy": "2024-02-24T16:04:52.829636Z",
          "iopub.execute_input": "2024-02-24T16:04:52.829944Z",
          "iopub.status.idle": "2024-02-24T16:04:54.542935Z",
          "shell.execute_reply.started": "2024-02-24T16:04:52.8299Z",
          "shell.execute_reply": "2024-02-24T16:04:54.54168Z"
        },
        "trusted": true,
        "id": "wTJyYs_eCP-X",
        "outputId": "2bd4c95c-bdcc-41e1-8ae5-3c839acf8a05"
      },
      "execution_count": null,
      "outputs": [
        {
          "name": "stdout",
          "text": "Saved model to disk\n",
          "output_type": "stream"
        },
        {
          "output_type": "display_data",
          "data": {
            "text/plain": "<Figure size 432x288 with 1 Axes>",
            "image/png": "[encoded data removed]"
          },
          "metadata": {}
        },
        {
          "output_type": "display_data",
          "data": {
            "text/plain": "<Figure size 432x288 with 1 Axes>",
            "image/png": "[encoded data removed]"
          },
          "metadata": {}
        }
      ]
    }
  ]
}